{
 "cells": [
  {
   "cell_type": "code",
   "execution_count": 39,
   "metadata": {},
   "outputs": [],
   "source": [
    "import time\n",
    "import numpy as np\n",
    "import pandas as pd\n",
    "import matplotlib.pyplot as plt\n",
    "\n",
    "from counterfit_connection import CounterFitConnection\n",
    "from counterfit_shims_grove.grove_relay import GroveRelay\n",
    "import paho.mqtt.client as mqtt"
   ]
  },
  {
   "cell_type": "markdown",
   "metadata": {},
   "source": [
    "### Read soil_moisture_watering.csv."
   ]
  },
  {
   "cell_type": "code",
   "execution_count": 40,
   "metadata": {},
   "outputs": [],
   "source": [
    "df = pd.read_csv(r'\"D:\\CSES\\Year2\\IoT\\nightlight\\Assignments\\farmer\\automated-plant-watering\\soil_moisture_for_watering.csv\"', names=['Total Pump Time', 'Soil Moisture', 'Decrease'])"
   ]
  },
  {
   "cell_type": "code",
   "execution_count": 41,
   "metadata": {},
   "outputs": [],
   "source": [
    "decreased_list = np.concatenate(([0], abs(np.diff(np.array(df['Soil Moisture']), axis=0))))\n",
    "df['Decrease'] = decreased_list"
   ]
  },
  {
   "cell_type": "code",
   "execution_count": 42,
   "metadata": {},
   "outputs": [
    {
     "data": {
      "text/plain": [
       "np.float64(31.5)"
      ]
     },
     "execution_count": 42,
     "metadata": {},
     "output_type": "execute_result"
    }
   ],
   "source": [
    "average_decrease = np.mean(df.loc[1:, 'Decrease']) # Calculate each second of water decreases the reading by an average of 31.5\n",
    "average_decrease"
   ]
  },
  {
   "cell_type": "code",
   "execution_count": 43,
   "metadata": {},
   "outputs": [],
   "source": [
    "# Calculate the pump time when we have the desired decrease\n",
    "def calculate_pump_time(desired_decrease, average_decrease):\n",
    "    return desired_decrease / average_decrease"
   ]
  },
  {
   "cell_type": "code",
   "execution_count": 44,
   "metadata": {},
   "outputs": [],
   "source": [
    "def control_pump(run_time):\n",
    "    print(f\"Pump running for {run_time:.2f} seconds...\")\n",
    "    control_relay(True)\n",
    "    time.sleep(run_time)\n",
    "    print(\"Pump stopped.\")\n",
    "    control_relay(False)"
   ]
  },
  {
   "cell_type": "code",
   "execution_count": 53,
   "metadata": {},
   "outputs": [
    {
     "name": "stdout",
     "output_type": "stream",
     "text": [
      "Pump running for 9.52 seconds...\n",
      "Failed to set relay state: 405\n",
      "Pump stopped.\n",
      "Failed to set relay state: 405\n"
     ]
    }
   ],
   "source": [
    "import time\n",
    "import requests\n",
    "from counterfit_connection import CounterFitConnection\n",
    "\n",
    "# Connect to Counterfit\n",
    "CounterFitConnection.init(\"127.0.0.1\", 5000)\n",
    "\n",
    "RELAY_PIN = 5\n",
    "counterfit_url = \"http://localhost:5000/\"\n",
    "\n",
    "def control_relay(state):\n",
    "    \"\"\"Controls the relay state (True = ON, False = OFF).\"\"\"\n",
    "    relay_state = {\n",
    "    \"relay_state\": state  # You can change this to \"OFF\" as needed\n",
    "    }   \n",
    "    response = requests.post(counterfit_url, json=relay_state)\n",
    "\n",
    "# Take an example\n",
    "desired_decreSase = 300.0\n",
    "needed_time = calculate_pump_time(desired_decrease, average_decrease)\n",
    "\n",
    "control_pump(needed_time)"
   ]
  },
  {
   "cell_type": "code",
   "execution_count": null,
   "metadata": {},
   "outputs": [],
   "source": []
  }
 ],
 "metadata": {
  "kernelspec": {
   "display_name": "Python 3.11.4 ('.venv': venv)",
   "language": "python",
   "name": "python3"
  },
  "language_info": {
   "codemirror_mode": {
    "name": "ipython",
    "version": 3
   },
   "file_extension": ".py",
   "mimetype": "text/x-python",
   "name": "python",
   "nbconvert_exporter": "python",
   "pygments_lexer": "ipython3",
   "version": "3.11.4"
  },
  "orig_nbformat": 4,
  "vscode": {
   "interpreter": {
    "hash": "705f4be3958a9d82257c96ab849e3ecd0d615708fa3039b4ea2805012bc3da42"
   }
  }
 },
 "nbformat": 4,
 "nbformat_minor": 2
}
