{
 "cells": [
  {
   "cell_type": "code",
   "execution_count": 25,
   "metadata": {},
   "outputs": [],
   "source": [
    "import time\n",
    "import numpy as np\n",
    "import pandas as pd\n",
    "import matplotlib.pyplot as plt\n",
    "\n",
    "from counterfit_connection import CounterFitConnection\n",
    "from counterfit_shims_grove.grove_relay import GroveRelay\n",
    "import paho.mqtt.client as mqtt"
   ]
  },
  {
   "cell_type": "markdown",
   "metadata": {},
   "source": [
    "### Read soil_moisture_watering.csv."
   ]
  },
  {
   "cell_type": "code",
   "execution_count": 26,
   "metadata": {},
   "outputs": [],
   "source": [
    "df = pd.read_csv(r'D:\\CSES\\Year2\\IoT\\nightlight\\soil_moisture_for_watering.csv', names=['Total Pump Time', 'Soil Moisture', 'Decrease'])"
   ]
  },
  {
   "cell_type": "code",
   "execution_count": 27,
   "metadata": {},
   "outputs": [],
   "source": [
    "decreased_list = np.concatenate(([0], abs(np.diff(np.array(df['Soil Moisture']), axis=0))))\n",
    "df['Decrease'] = decreased_list"
   ]
  },
  {
   "cell_type": "code",
   "execution_count": 28,
   "metadata": {},
   "outputs": [
    {
     "data": {
      "text/plain": [
       "np.float64(31.5)"
      ]
     },
     "execution_count": 28,
     "metadata": {},
     "output_type": "execute_result"
    }
   ],
   "source": [
    "average_decrease = np.mean(df.loc[1:, 'Decrease']) # Calculate each second of water decreases the reading by an average of 31.5\n",
    "average_decrease"
   ]
  },
  {
   "cell_type": "code",
   "execution_count": 29,
   "metadata": {},
   "outputs": [],
   "source": [
    "# Calculate the pump time when we have the desired decrease\n",
    "def calculate_pump_time(desired_decrease, average_decrease):\n",
    "    return desired_decrease / average_decrease"
   ]
  },
  {
   "cell_type": "code",
   "execution_count": 32,
   "metadata": {},
   "outputs": [
    {
     "ename": "TimeoutError",
     "evalue": "timed out",
     "output_type": "error",
     "traceback": [
      "\u001b[31m---------------------------------------------------------------------------\u001b[39m",
      "\u001b[31mTimeoutError\u001b[39m                              Traceback (most recent call last)",
      "\u001b[36mCell\u001b[39m\u001b[36m \u001b[39m\u001b[32mIn[32]\u001b[39m\u001b[32m, line 15\u001b[39m\n\u001b[32m     12\u001b[39m client_name = \u001b[38;5;28mid\u001b[39m + \u001b[33m'\u001b[39m\u001b[33mmoisture_sensor_server\u001b[39m\u001b[33m'\u001b[39m\n\u001b[32m     14\u001b[39m mqtt_client = mqtt.Client(client_name)\n\u001b[32m---> \u001b[39m\u001b[32m15\u001b[39m \u001b[43mmqtt_client\u001b[49m\u001b[43m.\u001b[49m\u001b[43mconnect\u001b[49m\u001b[43m(\u001b[49m\u001b[33;43m'\u001b[39;49m\u001b[33;43mtest.mosquitto.org\u001b[39;49m\u001b[33;43m'\u001b[39;49m\u001b[43m)\u001b[49m\n\u001b[32m     17\u001b[39m mqtt_client.loop_start()\n\u001b[32m     18\u001b[39m \u001b[38;5;28mprint\u001b[39m(\u001b[33m\"\u001b[39m\u001b[33mMQTT connected!\u001b[39m\u001b[33m\"\u001b[39m)\n",
      "\u001b[36mFile \u001b[39m\u001b[32md:\\CSES\\Year2\\IoT\\nightlight\\.venv\\Lib\\site-packages\\paho\\mqtt\\client.py:914\u001b[39m, in \u001b[36mClient.connect\u001b[39m\u001b[34m(self, host, port, keepalive, bind_address, bind_port, clean_start, properties)\u001b[39m\n\u001b[32m    910\u001b[39m         \u001b[38;5;28;01mraise\u001b[39;00m \u001b[38;5;167;01mValueError\u001b[39;00m(\u001b[33m\"\u001b[39m\u001b[33mProperties only apply to MQTT V5\u001b[39m\u001b[33m\"\u001b[39m)\n\u001b[32m    912\u001b[39m \u001b[38;5;28mself\u001b[39m.connect_async(host, port, keepalive,\n\u001b[32m    913\u001b[39m                    bind_address, bind_port, clean_start, properties)\n\u001b[32m--> \u001b[39m\u001b[32m914\u001b[39m \u001b[38;5;28;01mreturn\u001b[39;00m \u001b[38;5;28;43mself\u001b[39;49m\u001b[43m.\u001b[49m\u001b[43mreconnect\u001b[49m\u001b[43m(\u001b[49m\u001b[43m)\u001b[49m\n",
      "\u001b[36mFile \u001b[39m\u001b[32md:\\CSES\\Year2\\IoT\\nightlight\\.venv\\Lib\\site-packages\\paho\\mqtt\\client.py:1044\u001b[39m, in \u001b[36mClient.reconnect\u001b[39m\u001b[34m(self)\u001b[39m\n\u001b[32m   1041\u001b[39m \u001b[38;5;66;03m# Put messages in progress in a valid state.\u001b[39;00m\n\u001b[32m   1042\u001b[39m \u001b[38;5;28mself\u001b[39m._messages_reconnect_reset()\n\u001b[32m-> \u001b[39m\u001b[32m1044\u001b[39m sock = \u001b[38;5;28;43mself\u001b[39;49m\u001b[43m.\u001b[49m\u001b[43m_create_socket_connection\u001b[49m\u001b[43m(\u001b[49m\u001b[43m)\u001b[49m\n\u001b[32m   1046\u001b[39m \u001b[38;5;28;01mif\u001b[39;00m \u001b[38;5;28mself\u001b[39m._ssl:\n\u001b[32m   1047\u001b[39m     \u001b[38;5;66;03m# SSL is only supported when SSLContext is available (implies Python >= 2.7.9 or >= 3.2)\u001b[39;00m\n\u001b[32m   1049\u001b[39m     verify_host = \u001b[38;5;129;01mnot\u001b[39;00m \u001b[38;5;28mself\u001b[39m._tls_insecure\n",
      "\u001b[36mFile \u001b[39m\u001b[32md:\\CSES\\Year2\\IoT\\nightlight\\.venv\\Lib\\site-packages\\paho\\mqtt\\client.py:3685\u001b[39m, in \u001b[36mClient._create_socket_connection\u001b[39m\u001b[34m(self)\u001b[39m\n\u001b[32m   3683\u001b[39m     \u001b[38;5;28;01mreturn\u001b[39;00m socks.create_connection(addr, timeout=\u001b[38;5;28mself\u001b[39m._connect_timeout, source_address=source, **proxy)\n\u001b[32m   3684\u001b[39m \u001b[38;5;28;01melse\u001b[39;00m:\n\u001b[32m-> \u001b[39m\u001b[32m3685\u001b[39m     \u001b[38;5;28;01mreturn\u001b[39;00m \u001b[43msocket\u001b[49m\u001b[43m.\u001b[49m\u001b[43mcreate_connection\u001b[49m\u001b[43m(\u001b[49m\u001b[43maddr\u001b[49m\u001b[43m,\u001b[49m\u001b[43m \u001b[49m\u001b[43mtimeout\u001b[49m\u001b[43m=\u001b[49m\u001b[38;5;28;43mself\u001b[39;49m\u001b[43m.\u001b[49m\u001b[43m_connect_timeout\u001b[49m\u001b[43m,\u001b[49m\u001b[43m \u001b[49m\u001b[43msource_address\u001b[49m\u001b[43m=\u001b[49m\u001b[43msource\u001b[49m\u001b[43m)\u001b[49m\n",
      "\u001b[36mFile \u001b[39m\u001b[32m~\\AppData\\Local\\Programs\\Python\\Python311\\Lib\\socket.py:851\u001b[39m, in \u001b[36mcreate_connection\u001b[39m\u001b[34m(address, timeout, source_address, all_errors)\u001b[39m\n\u001b[32m    849\u001b[39m \u001b[38;5;28;01mtry\u001b[39;00m:\n\u001b[32m    850\u001b[39m     \u001b[38;5;28;01mif\u001b[39;00m \u001b[38;5;129;01mnot\u001b[39;00m all_errors:\n\u001b[32m--> \u001b[39m\u001b[32m851\u001b[39m         \u001b[38;5;28;01mraise\u001b[39;00m exceptions[\u001b[32m0\u001b[39m]\n\u001b[32m    852\u001b[39m     \u001b[38;5;28;01mraise\u001b[39;00m ExceptionGroup(\u001b[33m\"\u001b[39m\u001b[33mcreate_connection failed\u001b[39m\u001b[33m\"\u001b[39m, exceptions)\n\u001b[32m    853\u001b[39m \u001b[38;5;28;01mfinally\u001b[39;00m:\n\u001b[32m    854\u001b[39m     \u001b[38;5;66;03m# Break explicitly a reference cycle\u001b[39;00m\n",
      "\u001b[36mFile \u001b[39m\u001b[32m~\\AppData\\Local\\Programs\\Python\\Python311\\Lib\\socket.py:836\u001b[39m, in \u001b[36mcreate_connection\u001b[39m\u001b[34m(address, timeout, source_address, all_errors)\u001b[39m\n\u001b[32m    834\u001b[39m \u001b[38;5;28;01mif\u001b[39;00m source_address:\n\u001b[32m    835\u001b[39m     sock.bind(source_address)\n\u001b[32m--> \u001b[39m\u001b[32m836\u001b[39m sock.connect(sa)\n\u001b[32m    837\u001b[39m \u001b[38;5;66;03m# Break explicitly a reference cycle\u001b[39;00m\n\u001b[32m    838\u001b[39m exceptions.clear()\n",
      "\u001b[31mTimeoutError\u001b[39m: timed out"
     ]
    }
   ],
   "source": [
    "# Take an example\n",
    "desired_decrease = 300.0\n",
    "needed_time = calculate_pump_time(desired_decrease, average_decrease)\n",
    "\n",
    "CounterFitConnection.init('127.0.0.1', 5000)\n",
    "relay = GroveRelay(5)\n",
    "\n",
    "id = '<ID>'\n",
    "\n",
    "client_telemetry_topic = id + '/telemetry'\n",
    "server_command_topic = id + '/commands'\n",
    "client_name = id + 'moisture_sensor_server'\n",
    "\n",
    "mqtt_client = mqtt.Client(client_name)\n",
    "mqtt_client.connect('test.mosquitto.org')\n",
    "\n",
    "mqtt_client.loop_start()\n",
    "print(\"MQTT connected!\")\n",
    "\n",
    "def handle_telemetry(client, userdata, message):\n",
    "    payload = json.loads(message.payload.decode())\n",
    "    print(\"Message received:\", payload)\n",
    "\n",
    "mqtt_client.subscribe(client_telemetry_topic)\n",
    "mqtt_client.on_message = handle_telemetry\n",
    "\n",
    "# print(needed_time)\n",
    "\n",
    "while True:\n",
    "    relay.on()\n",
    "    time.sleep(needed_time)\n",
    "    break"
   ]
  },
  {
   "cell_type": "code",
   "execution_count": null,
   "metadata": {},
   "outputs": [],
   "source": []
  }
 ],
 "metadata": {
  "kernelspec": {
   "display_name": "Python 3.11.4 ('.venv': venv)",
   "language": "python",
   "name": "python3"
  },
  "language_info": {
   "codemirror_mode": {
    "name": "ipython",
    "version": 3
   },
   "file_extension": ".py",
   "mimetype": "text/x-python",
   "name": "python",
   "nbconvert_exporter": "python",
   "pygments_lexer": "ipython3",
   "version": "3.11.4"
  },
  "orig_nbformat": 4,
  "vscode": {
   "interpreter": {
    "hash": "705f4be3958a9d82257c96ab849e3ecd0d615708fa3039b4ea2805012bc3da42"
   }
  }
 },
 "nbformat": 4,
 "nbformat_minor": 2
}
